{
 "cells": [
  {
   "cell_type": "markdown",
   "id": "13f4e517",
   "metadata": {},
   "source": [
    "After completing the attention heads and combining attention heads to form multi-headed attention mechanism. Now, we will form the surrounding tranformer architecture to support the GPT model. So in the book, a dummy model is created first without containing any functionality in it, just to explain how the structre of a GPT model works. First the input is tokenized, them embedded, then runs through multiple attention head mechanisms, linear output layers and then decoded back to tokens. "
   ]
  },
  {
   "cell_type": "code",
   "execution_count": 1,
   "id": "b4fc680f",
   "metadata": {},
   "outputs": [],
   "source": [
    "GPT_CONFIG_124M = {\n",
    "    \"vocab_size\": 50257,    # Vocabulary size\n",
    "    \"context_length\": 1024, # Context length\n",
    "    \"emb_dim\": 768,         # Embedding dimension\n",
    "    \"n_heads\": 12,          # Number of attention heads\n",
    "    \"n_layers\": 12,         # Number of layers\n",
    "    \"drop_rate\": 0.1,       # Dropout rate\n",
    "    \"qkv_bias\": False       # Query-Key-Value bias\n",
    "}"
   ]
  },
  {
   "cell_type": "markdown",
   "id": "d3a833d1",
   "metadata": {},
   "source": [
    "\"vocab_size\" indicates a vocabulary size of 50,257 words, supported by the BPE tokenizer discussed in Chapter 2\n",
    "\"context_length\" represents the model's maximum input token count, as enabled by positional embeddings covered in Chapter 2\n",
    "\"emb_dim\" is the embedding size for token inputs, converting each input token into a 768-dimensional vector\n",
    "\"n_heads\" is the number of attention heads in the multi-head attention mechanism implemented in Chapter 3\n",
    "\"n_layers\" is the number of transformer blocks within the model, which we'll implement in upcoming sections\n",
    "\"drop_rate\" is the dropout mechanism's intensity, discussed in Chapter 3; 0.1 means dropping 10% of hidden units during training to mitigate overfitting\n",
    "\"qkv_bias\" decides if the Linear layers in the multi-head attention mechanism (from Chapter 3) should include a bias vector when computing query (Q), key (K), and value (V) tensors; we'll disable this option, which is standard practice in modern LLMs;"
   ]
  },
  {
   "cell_type": "code",
   "execution_count": 2,
   "id": "bdd87716",
   "metadata": {},
   "outputs": [],
   "source": [
    "import torch\n",
    "import torch.nn as nn\n",
    "import tiktoken"
   ]
  },
  {
   "cell_type": "code",
   "execution_count": 3,
   "id": "db677c02",
   "metadata": {},
   "outputs": [],
   "source": [
    "class DummyGPTModel(nn.Module):\n",
    "    def __init__(self, cfg):\n",
    "        super().__init__()\n",
    "        self.token_emb = nn.Embedding(cfg[\"vocab_size\"], cfg[\"emb_dim\"])\n",
    "        self.position_emb = nn.Embedding(cfg[\"context_length\"], cfg[\"emb_dim\"])\n",
    "        self.drop_emb = nn.Dropout(cfg[\"drop_rate\"])\n",
    "        self.transformer_blocks = nn.Sequential(\n",
    "            *[DummyTransformerBlocks(cfg) for _ in range(cfg[\"n_layers\"])])\n",
    "        \n",
    "        self.final_norm = DummyLayerNorm(cfg[\"emb_dim\"])\n",
    "        self.out_head = nn.Linear(\n",
    "            cfg[\"emb_dim\"], cfg[\"vocab_size\"], bias = False\n",
    "        )\n",
    "        \n",
    "    def forward(self, index):\n",
    "        batch_size, seq_len = index.shape\n",
    "        token_embeds = self.token_emb(index)\n",
    "        position_embeds = self.position_emb(torch.arange(seq_len, device = index.device))\n",
    "        x = token_embeds + position_embeds\n",
    "        x = self.drop_emb(x)\n",
    "        x = self.transformer_blocks(x)\n",
    "        x = self.final_norm(x)\n",
    "        logits = self.out_head(x)\n",
    "        return logits\n",
    "    \n",
    "class DummyTransformerBlocks(nn.Module):\n",
    "    def __init__(self, cfg):\n",
    "        super().__init__()\n",
    "        \n",
    "    def forward(self, x):\n",
    "        return x\n",
    "    \n",
    "class DummyLayerNorm(nn.Module):\n",
    "    def __init__(self, normalized_shape, eps = 1e-5):\n",
    "        super().__init__()\n",
    "        \n",
    "    def forward(self, x):\n",
    "        return x\n",
    "            "
   ]
  },
  {
   "cell_type": "markdown",
   "id": "dfa72c85",
   "metadata": {},
   "source": [
    "THe above cell contains the skeleton of a Dummy GPT model, this is how it would look, the classes of transformer blocks and normalization layers are not complete yet, those will be formed step by step by learning."
   ]
  },
  {
   "cell_type": "code",
   "execution_count": 4,
   "id": "ef28e379",
   "metadata": {},
   "outputs": [
    {
     "name": "stderr",
     "output_type": "stream",
     "text": [
      "/home/salaj/anaconda3/envs/dl-env/lib/python3.10/site-packages/requests/__init__.py:86: RequestsDependencyWarning: Unable to find acceptable character detection dependency (chardet or charset_normalizer).\n",
      "  warnings.warn(\n"
     ]
    },
    {
     "name": "stdout",
     "output_type": "stream",
     "text": [
      "tensor([[14662,   318,   257],\n",
      "        [33770,  1975,   287]])\n"
     ]
    }
   ],
   "source": [
    "tokenizer = tiktoken.get_encoding('gpt2')\n",
    "batch = []\n",
    "\n",
    "text1 = \"Life is a\"\n",
    "text2 = \"always believe in\"\n",
    "\n",
    "batch.append(torch.tensor(tokenizer.encode(text1)))\n",
    "batch.append(torch.tensor(tokenizer.encode(text2)))\n",
    "batch = torch.stack(batch, dim=0)\n",
    "print(batch)"
   ]
  },
  {
   "cell_type": "code",
   "execution_count": 5,
   "id": "57e82ce0",
   "metadata": {},
   "outputs": [
    {
     "name": "stdout",
     "output_type": "stream",
     "text": [
      "Output shape: torch.Size([2, 3, 50257])\n",
      "tensor([[[-0.4662,  0.3252, -0.0501,  ..., -0.4346,  0.7034,  0.3292],\n",
      "         [-0.3497, -0.1606, -0.4492,  ..., -0.5948,  0.3007,  0.0621],\n",
      "         [ 0.0887, -0.9600,  0.1678,  ...,  0.6472,  0.1326, -0.1579]],\n",
      "\n",
      "        [[-0.4402,  0.3932, -1.4061,  ..., -0.2005,  0.6720, -0.8172],\n",
      "         [ 0.2087,  0.6763, -0.2571,  ...,  0.1412, -0.1501, -0.0122],\n",
      "         [-0.1937,  2.7545, -0.0680,  ...,  0.3875, -0.0067,  0.7153]]],\n",
      "       grad_fn=<UnsafeViewBackward0>)\n"
     ]
    }
   ],
   "source": [
    "torch.manual_seed(123)\n",
    "model = DummyGPTModel(GPT_CONFIG_124M)\n",
    "\n",
    "logits = model(batch)\n",
    "print(\"Output shape:\", logits.shape)\n",
    "print(logits)"
   ]
  },
  {
   "cell_type": "markdown",
   "id": "68dd2dba",
   "metadata": {},
   "source": [
    "After completing this dummy skeleton of a GPT model, let's create the Normalization layer. The role of normalization is to stabilize training and enable faster convergance of the weights. Basically applying normalization after each attention layer, allows us to bring the mean of the outputs to 0 and the variance to 1 which allows us to keep the outputs on the same page after each layer. So reducing possible places of problems."
   ]
  },
  {
   "cell_type": "code",
   "execution_count": 6,
   "id": "617d8a9d",
   "metadata": {},
   "outputs": [
    {
     "data": {
      "text/plain": [
       "tensor([[0.0000, 0.0000, 0.3391, 0.1583, 0.0000, 0.0000, 0.4158, 0.0176],\n",
       "        [0.0000, 0.0000, 0.5672, 0.0000, 0.0000, 0.0000, 0.0000, 0.2426]],\n",
       "       grad_fn=<ReluBackward0>)"
      ]
     },
     "execution_count": 6,
     "metadata": {},
     "output_type": "execute_result"
    }
   ],
   "source": [
    "torch.manual_seed(123)\n",
    "batch_example = torch.randn(2,6)\n",
    "layer = nn.Sequential(nn.Linear(6,8), nn.ReLU())\n",
    "out = layer(batch_example)\n",
    "out"
   ]
  },
  {
   "cell_type": "code",
   "execution_count": 7,
   "id": "38140da4",
   "metadata": {},
   "outputs": [
    {
     "name": "stdout",
     "output_type": "stream",
     "text": [
      "tensor([[0.1163],\n",
      "        [0.1012]], grad_fn=<MeanBackward1>)\n",
      "tensor([[0.0293],\n",
      "        [0.0427]], grad_fn=<VarBackward0>)\n"
     ]
    }
   ],
   "source": [
    "mean = out.mean(dim=-1, keepdim=True)\n",
    "var = out.var(dim=-1, keepdim=True)\n",
    "print(mean)\n",
    "print(var)"
   ]
  },
  {
   "cell_type": "code",
   "execution_count": 8,
   "id": "0a082cd9",
   "metadata": {},
   "outputs": [
    {
     "name": "stdout",
     "output_type": "stream",
     "text": [
      "tensor([[-0.6800, -0.6800,  1.3018,  0.2451, -0.6800, -0.6800,  1.7501, -0.5771],\n",
      "        [-0.4901, -0.4901,  2.2562, -0.4901, -0.4901, -0.4901, -0.4901,  0.6843]],\n",
      "       grad_fn=<DivBackward0>)\n",
      "tensor([[    -0.0000],\n",
      "        [     0.0000]], grad_fn=<MeanBackward1>)\n",
      "tensor([[1.],\n",
      "        [1.]], grad_fn=<VarBackward0>)\n"
     ]
    }
   ],
   "source": [
    "out_norm = (out - mean) / torch.sqrt(var)\n",
    "print(out_norm)\n",
    "mean = out_norm.mean(dim=-1, keepdim=True)\n",
    "var = out_norm.var(dim=-1, keepdim=True)\n",
    "torch.set_printoptions(sci_mode=False)\n",
    "print(mean)\n",
    "print(var)"
   ]
  },
  {
   "cell_type": "code",
   "execution_count": 9,
   "id": "98935bb9",
   "metadata": {},
   "outputs": [],
   "source": [
    "class LayerNorm(nn.Module):\n",
    "    def __init__(self, emb_dim):\n",
    "        super().__init__()\n",
    "        self.eps = 1e-5\n",
    "        self.scale = nn.Parameter(torch.ones(emb_dim))\n",
    "        self.shift = nn.Parameter(torch.zeros(emb_dim))\n",
    "        \n",
    "    def forward(self, x):\n",
    "        mean = x.mean(dim=-1, keepdim=True)\n",
    "        var = x.var(dim=-1, keepdim = True, unbiased = False)\n",
    "        norm_x = (x-mean)/torch.sqrt(var + self.eps)\n",
    "        return self.scale * norm_x + self.shift"
   ]
  },
  {
   "cell_type": "markdown",
   "id": "80e81981",
   "metadata": {},
   "source": [
    "Some features we have used here:\n",
    "eps - When the variance of a row might be 0 then while calculating the norm, it would be dividing by zero, so we apply a very small epsilon so that it is not undefined. \n",
    "scale and shift - If during the training, the model finds that the norm_x is deviating from its expected value then the parameters of scale and shift are changed so that it brings back the mean to 0 and the var to 1. "
   ]
  },
  {
   "cell_type": "code",
   "execution_count": 10,
   "id": "d77e8fde",
   "metadata": {},
   "outputs": [
    {
     "name": "stdout",
     "output_type": "stream",
     "text": [
      "tensor([[    0.0000],\n",
      "        [    0.0000]], grad_fn=<MeanBackward1>)\n",
      "tensor([[1.0000],\n",
      "        [1.0000]], grad_fn=<VarBackward0>)\n"
     ]
    }
   ],
   "source": [
    "ln = LayerNorm(emb_dim=6)\n",
    "out_ln = ln(batch_example)\n",
    "mean = out_ln.mean(dim=-1, keepdim=True)\n",
    "var = out_ln.var(dim=-1, unbiased=False, keepdim=True)\n",
    "\n",
    "print(mean)\n",
    "print(var)"
   ]
  },
  {
   "cell_type": "markdown",
   "id": "ca64546a",
   "metadata": {},
   "source": [
    "Layer normalization is a very important part, other than that after the attention mechanism has completed its work and the layer has been normalized, each token is run through a feed forward block also called a Multi layer perceptron. One of the key components of this MLP layer is the activation functions. For general purposes, ReLU is the most common used activation function but ReLU has a very high degree of change on 0. For all negative values ReLU just outputs 0 and for all positive values it outputs the same. Due to the sharp corner at zero, it makes optimization harder for ReLU. So, we use another activation function known as the Gaussian Error Linear Unit (GELU). The simpler approxitmation of the GELU to make it computationally affordable is GELU(x) ≈ 0.5 ⋅ x ⋅ (1 + tanh[√((2/π)) ⋅ x + 0.044715 ⋅ x^3]). Below is the graph of ReLU and GELU for comparision and the implementation of GELU in a class. "
   ]
  },
  {
   "cell_type": "code",
   "execution_count": 11,
   "id": "de787e7d",
   "metadata": {},
   "outputs": [],
   "source": [
    "class GELU(nn.Module):\n",
    "    def __init__(self):\n",
    "        super().__init__()\n",
    "        \n",
    "    def forward(self, x):\n",
    "        return 0.5 * x * (1 + torch.tanh(\n",
    "            torch.sqrt(torch.tensor(2.0/torch.pi)) * (x + 0.44715 * torch.pow(x, 3))))"
   ]
  },
  {
   "cell_type": "code",
   "execution_count": 12,
   "id": "9ee1e9fe",
   "metadata": {},
   "outputs": [
    {
     "data": {
      "image/png": "[encoded data removed]",
      "text/plain": [
       "<Figure size 800x300 with 2 Axes>"
      ]
     },
     "metadata": {},
     "output_type": "display_data"
    }
   ],
   "source": [
    "import matplotlib.pyplot as plt\n",
    "\n",
    "gelu, relu = GELU(), nn.ReLU()\n",
    "x = torch.linspace(-3, 3, 100)\n",
    "y_gelu, y_relu = gelu(x), relu(x)\n",
    "\n",
    "plt.figure(figsize=(8, 3))\n",
    "for i, (y, label) in enumerate(zip([y_gelu, y_relu], [\"GELU\", \"ReLU\"]), 1):\n",
    "    plt.subplot(1, 2, i)\n",
    "    plt.plot(x, y)\n",
    "    plt.title(f\"{label} activation function\")\n",
    "    plt.xlabel(\"x\")\n",
    "    plt.ylabel(f\"{label}(x)\")\n",
    "    plt.grid(True)\n",
    "\n",
    "plt.tight_layout()\n",
    "plt.show()"
   ]
  },
  {
   "cell_type": "markdown",
   "id": "a3816f27",
   "metadata": {},
   "source": [
    "Yeah, so the only difference in ReLU and GELU is the negative part, Relu doesnt allow negative values to affect the gradients whereas GELU allows negative values close to 0 affect the gradients but very minimal changes. Now we will use this GELU activation to define a feed forward layer."
   ]
  },
  {
   "cell_type": "code",
   "execution_count": 13,
   "id": "fbdfdb50",
   "metadata": {},
   "outputs": [
    {
     "name": "stdout",
     "output_type": "stream",
     "text": [
      "tensor([[[-0.1834, -0.0548, -0.1705,  ..., -0.0473,  0.0449,  0.0005],\n",
      "         [-0.0770, -0.0994, -0.1524,  ..., -0.0071,  0.0560,  0.0871],\n",
      "         [-0.1177, -0.0036, -0.1050,  ...,  0.0490, -0.0769,  0.0299]],\n",
      "\n",
      "        [[-0.1002, -0.0065, -0.1014,  ...,  0.0550, -0.0687, -0.0235],\n",
      "         [-0.1782, -0.0862, -0.1239,  ..., -0.0621, -0.0082,  0.0631],\n",
      "         [-0.1581, -0.1387, -0.1162,  ..., -0.0122,  0.0346,  0.0860]]],\n",
      "       grad_fn=<ViewBackward0>)\n",
      "torch.Size([2, 3, 768])\n"
     ]
    }
   ],
   "source": [
    "class FeedForward(nn.Module):\n",
    "    def __init__(self, cfg):\n",
    "        super().__init__()\n",
    "        self.layers = nn.Sequential(\n",
    "            nn.Linear(cfg['emb_dim'], 4 * cfg['emb_dim']),\n",
    "            GELU(), \n",
    "            nn.Linear(4*cfg['emb_dim'], cfg['emb_dim'])\n",
    "        )\n",
    "    \n",
    "    def forward(self, x):\n",
    "        return self.layers(x)\n",
    "    \n",
    "ffn = FeedForward(GPT_CONFIG_124M)\n",
    "x = torch.rand(2, 3, 768)\n",
    "output = ffn(x)\n",
    "print(output)\n",
    "print(output.shape)"
   ]
  },
  {
   "cell_type": "markdown",
   "id": "70dd2af3",
   "metadata": {},
   "source": [
    "What we basically did here is, initially the dimension of each vector was 768, we increase that to 768 x 4. Allowing each element to take a much bigger space in the high-dimension vector space and expand its meaning, apply the GELU activation on it and then contract it back again to 768 dimensions. So the intial and final dimensions of the vector are same, but this allows each token to explore a bigger space and a richer representation space. "
   ]
  },
  {
   "cell_type": "markdown",
   "id": "e7d03fb1",
   "metadata": {},
   "source": [
    "ANother important functionality we use is the shortcut connections. It tries to solve the vanishing gradient problem. Imagine a glass of water from which water is being transfered to another glass with some recklessness, after repeating this for 9-10 times the water in the last glass would be very less. THis is exactly what happens in vanishing gradient, the value of the gradient in the first layer is almost zero and makes no differnece, so we add connections from the last layer to different layers in between skipping the layers in betwwen to provide effective gradient in each layers. We will directly apply this in the implementation."
   ]
  },
  {
   "cell_type": "code",
   "execution_count": 14,
   "id": "de9584a2",
   "metadata": {},
   "outputs": [
    {
     "name": "stdout",
     "output_type": "stream",
     "text": [
      "Input shape: torch.Size([2, 4, 768])\n",
      "Output shape: torch.Size([2, 4, 768])\n"
     ]
    }
   ],
   "source": [
    "from important_GPT_blocks import MultiHeadAttention\n",
    "\n",
    "class TransformerBlock(nn.Module):\n",
    "    def __init__(self, cfg):\n",
    "        super().__init__()\n",
    "        self.att = MultiHeadAttention(\n",
    "            d_in = cfg[\"emb_dim\"],\n",
    "            d_out = cfg[\"emb_dim\"],\n",
    "            context_length = cfg['context_length'],\n",
    "            num_heads = cfg['n_heads'],\n",
    "            dropout = cfg['drop_rate'],\n",
    "            qkv_bias = cfg['qkv_bias']\n",
    "        )        \n",
    "        self.ff = FeedForward(cfg)\n",
    "        self.norm1 = LayerNorm(cfg['emb_dim'])\n",
    "        self.norm2 = LayerNorm(cfg['emb_dim'])\n",
    "        self.drop_shortcut = nn.Dropout(cfg['drop_rate'])\n",
    "        \n",
    "    def forward(self, x):\n",
    "        shortcut = x\n",
    "        x = self.norm1(x)\n",
    "        x = self.att(x) \n",
    "        x = self.drop_shortcut(x)\n",
    "        x = x + shortcut  \n",
    "\n",
    "        shortcut = x\n",
    "        x = self.norm2(x)\n",
    "        x = self.ff(x)\n",
    "        x = self.drop_shortcut(x)\n",
    "        x = x + shortcut \n",
    "        return x\n",
    "    \n",
    "torch.manual_seed(123)\n",
    "\n",
    "x = torch.rand(2, 4, 768)\n",
    "block = TransformerBlock(GPT_CONFIG_124M)\n",
    "output = block(x)\n",
    "\n",
    "print(\"Input shape:\", x.shape)\n",
    "print(\"Output shape:\", output.shape)"
   ]
  },
  {
   "cell_type": "markdown",
   "id": "7c42f3c6",
   "metadata": {},
   "source": [
    "This is the complete implementation of the original transformer block. Now using this transformer, the normalization layer and other components we complete the GPT model."
   ]
  },
  {
   "cell_type": "code",
   "execution_count": 15,
   "id": "39c44d0d",
   "metadata": {},
   "outputs": [],
   "source": [
    "class GPTModel(nn.Module):\n",
    "    def __init__(self, cfg):\n",
    "        super().__init__()\n",
    "        self.tok_emb = nn.Embedding(cfg[\"vocab_size\"], cfg[\"emb_dim\"])\n",
    "        self.pos_emb = nn.Embedding(cfg[\"context_length\"], cfg[\"emb_dim\"])\n",
    "        self.drop_emb = nn.Dropout(cfg[\"drop_rate\"])\n",
    "        \n",
    "        self.trf_blocks = nn.Sequential(\n",
    "            *[TransformerBlock(cfg) for _ in range(cfg[\"n_layers\"])])\n",
    "        \n",
    "        self.final_norm = LayerNorm(cfg[\"emb_dim\"])\n",
    "        self.out_head = nn.Linear(\n",
    "            cfg[\"emb_dim\"], cfg[\"vocab_size\"], bias=False\n",
    "        )\n",
    "\n",
    "    def forward(self, in_idx):\n",
    "        batch_size, seq_len = in_idx.shape\n",
    "        tok_embeds = self.tok_emb(in_idx)\n",
    "        pos_embeds = self.pos_emb(torch.arange(seq_len, device=in_idx.device))\n",
    "        x = tok_embeds + pos_embeds \n",
    "        x = self.drop_emb(x)\n",
    "        x = self.trf_blocks(x)\n",
    "        x = self.final_norm(x)\n",
    "        logits = self.out_head(x)\n",
    "        return logits"
   ]
  },
  {
   "cell_type": "code",
   "execution_count": 16,
   "id": "6b4a1df1",
   "metadata": {},
   "outputs": [
    {
     "name": "stdout",
     "output_type": "stream",
     "text": [
      "Input batch:\n",
      " tensor([[14662,   318,   257],\n",
      "        [33770,  1975,   287]])\n",
      "\n",
      "Output shape: torch.Size([2, 3, 50257])\n",
      "tensor([[[ 0.4906,  0.1367,  0.7441,  ..., -0.5264,  1.2308, -0.1062],\n",
      "         [ 0.6807, -1.3219, -0.3639,  ..., -0.5586,  0.5617, -0.0524],\n",
      "         [ 1.4803,  0.4686,  0.6771,  ...,  0.3952, -0.2109,  0.4363]],\n",
      "\n",
      "        [[-0.4005,  0.4785,  0.3106,  ...,  0.4435,  0.7553, -0.0831],\n",
      "         [ 0.7394, -0.5542,  0.4247,  ..., -0.3514,  0.0794, -0.3447],\n",
      "         [ 0.8821,  0.5700, -0.1765,  ...,  0.0035,  0.3378, -0.0520]]],\n",
      "       grad_fn=<UnsafeViewBackward0>)\n"
     ]
    }
   ],
   "source": [
    "torch.manual_seed(123)\n",
    "model = GPTModel(GPT_CONFIG_124M)\n",
    "\n",
    "out = model(batch)\n",
    "print(\"Input batch:\\n\", batch)\n",
    "print(\"\\nOutput shape:\", out.shape)\n",
    "print(out)"
   ]
  },
  {
   "cell_type": "code",
   "execution_count": 17,
   "id": "7ac20760",
   "metadata": {},
   "outputs": [
    {
     "name": "stdout",
     "output_type": "stream",
     "text": [
      "Total number of parameters: 163,009,536\n"
     ]
    }
   ],
   "source": [
    "total_params = sum(p.numel() for p in model.parameters())\n",
    "print(f\"Total number of parameters: {total_params:,}\")"
   ]
  },
  {
   "cell_type": "markdown",
   "id": "6801a086",
   "metadata": {},
   "source": [
    "The total number of parameters for out model are near 163 million. For the GPT-3 model it is 175 billion!!!"
   ]
  },
  {
   "cell_type": "markdown",
   "id": "96eba50c",
   "metadata": {},
   "source": [
    "Now i am experimenting with the number of layers and heads to see how it affects the parameters.    "
   ]
  },
  {
   "cell_type": "code",
   "execution_count": 18,
   "id": "0174101c",
   "metadata": {},
   "outputs": [
    {
     "name": "stdout",
     "output_type": "stream",
     "text": [
      "Parameters : 333,063,168\n"
     ]
    }
   ],
   "source": [
    "\n",
    "GPT_Experiment_1 = {\n",
    "    \"vocab_size\": 50257,    # Vocabulary size\n",
    "    \"context_length\": 1024, # Context length\n",
    "    \"emb_dim\": 768,         # Embedding dimension\n",
    "    \"n_heads\": 24,          # Number of attention heads\n",
    "    \"n_layers\": 36,         # Number of layers\n",
    "    \"drop_rate\": 0.1,       # Dropout rate\n",
    "    \"qkv_bias\": False       # Query-Key-Value bias\n",
    "}\n",
    "\n",
    "exp_model_1 = GPTModel(GPT_Experiment_1)\n",
    "output = exp_model_1(batch)\n",
    "exp_parameters = sum(p.numel() for p in exp_model_1.parameters())\n",
    "print(f\"Parameters : {exp_parameters:,}\")"
   ]
  },
  {
   "cell_type": "code",
   "execution_count": 19,
   "id": "733fdc88",
   "metadata": {},
   "outputs": [
    {
     "name": "stdout",
     "output_type": "stream",
     "text": [
      "Parameters : 1,891,888,128\n"
     ]
    }
   ],
   "source": [
    "\n",
    "GPT_Experiment_1 = {\n",
    "    \"vocab_size\": 50257,    # Vocabulary size\n",
    "    \"context_length\": 1024, # Context length\n",
    "    \"emb_dim\": 768,         # Embedding dimension\n",
    "    \"n_heads\": 128,          # Number of attention heads\n",
    "    \"n_layers\": 256,         # Number of layers\n",
    "    \"drop_rate\": 0.1,       # Dropout rate\n",
    "    \"qkv_bias\": False       # Query-Key-Value bias\n",
    "}\n",
    "\n",
    "exp_model_1 = GPTModel(GPT_Experiment_1)\n",
    "output = exp_model_1(batch)\n",
    "exp_parameters = sum(p.numel() for p in exp_model_1.parameters())\n",
    "print(f\"Parameters : {exp_parameters:,}\")"
   ]
  },
  {
   "cell_type": "markdown",
   "id": "3a67b109",
   "metadata": {},
   "source": [
    "Now we use the decoding part which allows us to convert the finally generated output vectors to get converted to tokens and words. "
   ]
  },
  {
   "cell_type": "code",
   "execution_count": 20,
   "id": "503e0310",
   "metadata": {},
   "outputs": [],
   "source": [
    "def simple_text_gen(model, idx, max_tokens, context_size):\n",
    "    for _ in range(max_tokens):\n",
    "        idx_cond = idx[:, -context_size:]\n",
    "        with torch.no_grad():\n",
    "            logits = model(idx_cond)\n",
    "        \n",
    "        logits = logits[:, -1, :]\n",
    "        probabilities = torch.softmax(logits, dim =-1)\n",
    "        idx_nxt = torch.argmax(probabilities, dim=-1, keepdim=True)\n",
    "        idx = torch.cat((idx, idx_nxt), dim=1)\n",
    "    return idx"
   ]
  },
  {
   "cell_type": "code",
   "execution_count": 21,
   "id": "997f85a9",
   "metadata": {},
   "outputs": [
    {
     "name": "stdout",
     "output_type": "stream",
     "text": [
      "[1212, 318, 1597]\n"
     ]
    }
   ],
   "source": [
    "start = \"This is business\"\n",
    "encoded = tokenizer.encode(start)\n",
    "print(encoded)\n",
    "encoded_tensor = torch.tensor(encoded).unsqueeze(0)\n"
   ]
  },
  {
   "cell_type": "code",
   "execution_count": 22,
   "id": "e7002014",
   "metadata": {},
   "outputs": [
    {
     "data": {
      "text/plain": [
       "tensor([[ 1212,   318,  1597, 11354, 16846, 24086, 47843, 30961]])"
      ]
     },
     "execution_count": 22,
     "metadata": {},
     "output_type": "execute_result"
    }
   ],
   "source": [
    "model.eval()\n",
    "\n",
    "out = simple_text_gen(model=model, idx = encoded_tensor, max_tokens=5, context_size=GPT_CONFIG_124M['context_length'])\n",
    "out"
   ]
  },
  {
   "cell_type": "code",
   "execution_count": 25,
   "id": "ecb87c09",
   "metadata": {},
   "outputs": [
    {
     "name": "stdout",
     "output_type": "stream",
     "text": [
      "This is business fer packagingiman Byeswick\n"
     ]
    }
   ],
   "source": [
    "decoded_text = tokenizer.decode(out.squeeze(0).tolist())\n",
    "print(decoded_text)"
   ]
  },
  {
   "cell_type": "markdown",
   "id": "5e8332ed",
   "metadata": {},
   "source": [
    "Pure Nonsense :)"
   ]
  }
 ],
 "metadata": {
  "kernelspec": {
   "display_name": "Python (dl-env)",
   "language": "python",
   "name": "dl-env"
  },
  "language_info": {
   "codemirror_mode": {
    "name": "ipython",
    "version": 3
   },
   "file_extension": ".py",
   "mimetype": "text/x-python",
   "name": "python",
   "nbconvert_exporter": "python",
   "pygments_lexer": "ipython3",
   "version": "3.10.16"
  }
 },
 "nbformat": 4,
 "nbformat_minor": 5
}
